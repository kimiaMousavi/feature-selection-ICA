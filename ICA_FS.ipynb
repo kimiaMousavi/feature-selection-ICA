{
  "nbformat": 4,
  "nbformat_minor": 0,
  "metadata": {
    "colab": {
      "name": "ICA.FS.ipynb",
      "provenance": [],
      "collapsed_sections": []
    },
    "kernelspec": {
      "name": "python3",
      "display_name": "Python 3"
    },
    "language_info": {
      "name": "python"
    }
  },
  "cells": [
    {
      "cell_type": "markdown",
      "source": [
        "#Feature selection with Imperialist Competitive Algorithm\n",
        "Cardiovascular Disease dataset"
      ],
      "metadata": {
        "id": "wCMzhI6hqUlV"
      }
    },
    {
      "cell_type": "code",
      "source": [
        "from typing import List\n",
        "\n",
        "import numpy as np\n",
        "import pandas as pd\n",
        "\n",
        "import time\n",
        "import random as rn\n",
        "\n",
        "from sklearn.metrics         import f1_score\n",
        "from sklearn.model_selection import train_test_split\n",
        "\n",
        "from sklearn.neighbors import KNeighborsClassifier\n",
        "from sklearn.ensemble import RandomForestClassifier\n",
        "from sklearn.svm import SVC"
      ],
      "metadata": {
        "id": "bVOVwIbDZjTV"
      },
      "execution_count": 1,
      "outputs": []
    },
    {
      "cell_type": "code",
      "source": [
        "# Code to read csv file into Colaboratory:\n",
        "\n",
        "from google.colab import drive\n",
        "drive.mount('/content/drive')"
      ],
      "metadata": {
        "colab": {
          "base_uri": "https://localhost:8080/"
        },
        "id": "iMKEkaT88_6j",
        "outputId": "dc7d68cd-495a-4430-f338-9fd3b24f30d2"
      },
      "execution_count": 2,
      "outputs": [
        {
          "output_type": "stream",
          "name": "stdout",
          "text": [
            "Mounted at /content/drive\n"
          ]
        }
      ]
    },
    {
      "cell_type": "markdown",
      "source": [
        "# Preprocessing\n",
        "in this section we loading data from CSV file into a Pandas DataFrame and split the features into X and resault column to y"
      ],
      "metadata": {
        "id": "mSNF7JTCbnRx"
      }
    },
    {
      "cell_type": "code",
      "source": [
        "X = pd.read_csv(\n",
        "    \"/content/drive/MyDrive/cardio_train.csv\", sep = ';', \n",
        "    usecols = ['age', \n",
        "               'gender', \n",
        "               'height', \n",
        "               'weight', \n",
        "               'ap_hi', \n",
        "               'ap_lo', \n",
        "               'cholesterol', \n",
        "               'gluc', \n",
        "               'smoke', \n",
        "               'alco', \n",
        "               'active'],\n",
        ")\n",
        "\n",
        "y = pd.read_csv(\n",
        "    \"/content/drive/MyDrive/cardio_train.csv\", sep = ';', squeeze = True, \n",
        "    usecols = ['cardio']\n",
        ")"
      ],
      "metadata": {
        "id": "Jofl2uTslI4M"
      },
      "execution_count": 3,
      "outputs": []
    },
    {
      "cell_type": "code",
      "source": [
        "X.head()\n"
      ],
      "metadata": {
        "colab": {
          "base_uri": "https://localhost:8080/",
          "height": 204
        },
        "id": "0hs5L9m1Y3cb",
        "outputId": "0054e5ed-c3aa-4c8f-d248-0a2beadc79cc"
      },
      "execution_count": null,
      "outputs": [
        {
          "output_type": "execute_result",
          "data": {
            "text/html": [
              "\n",
              "  <div id=\"df-fa3f5c64-8f97-426b-8db1-387265ed56b0\">\n",
              "    <div class=\"colab-df-container\">\n",
              "      <div>\n",
              "<style scoped>\n",
              "    .dataframe tbody tr th:only-of-type {\n",
              "        vertical-align: middle;\n",
              "    }\n",
              "\n",
              "    .dataframe tbody tr th {\n",
              "        vertical-align: top;\n",
              "    }\n",
              "\n",
              "    .dataframe thead th {\n",
              "        text-align: right;\n",
              "    }\n",
              "</style>\n",
              "<table border=\"1\" class=\"dataframe\">\n",
              "  <thead>\n",
              "    <tr style=\"text-align: right;\">\n",
              "      <th></th>\n",
              "      <th>age</th>\n",
              "      <th>gender</th>\n",
              "      <th>height</th>\n",
              "      <th>weight</th>\n",
              "      <th>ap_hi</th>\n",
              "      <th>ap_lo</th>\n",
              "      <th>cholesterol</th>\n",
              "      <th>gluc</th>\n",
              "      <th>smoke</th>\n",
              "      <th>alco</th>\n",
              "      <th>active</th>\n",
              "    </tr>\n",
              "  </thead>\n",
              "  <tbody>\n",
              "    <tr>\n",
              "      <th>0</th>\n",
              "      <td>18393</td>\n",
              "      <td>2</td>\n",
              "      <td>168</td>\n",
              "      <td>62.0</td>\n",
              "      <td>110</td>\n",
              "      <td>80</td>\n",
              "      <td>1</td>\n",
              "      <td>1</td>\n",
              "      <td>0</td>\n",
              "      <td>0</td>\n",
              "      <td>1</td>\n",
              "    </tr>\n",
              "    <tr>\n",
              "      <th>1</th>\n",
              "      <td>20228</td>\n",
              "      <td>1</td>\n",
              "      <td>156</td>\n",
              "      <td>85.0</td>\n",
              "      <td>140</td>\n",
              "      <td>90</td>\n",
              "      <td>3</td>\n",
              "      <td>1</td>\n",
              "      <td>0</td>\n",
              "      <td>0</td>\n",
              "      <td>1</td>\n",
              "    </tr>\n",
              "    <tr>\n",
              "      <th>2</th>\n",
              "      <td>18857</td>\n",
              "      <td>1</td>\n",
              "      <td>165</td>\n",
              "      <td>64.0</td>\n",
              "      <td>130</td>\n",
              "      <td>70</td>\n",
              "      <td>3</td>\n",
              "      <td>1</td>\n",
              "      <td>0</td>\n",
              "      <td>0</td>\n",
              "      <td>0</td>\n",
              "    </tr>\n",
              "    <tr>\n",
              "      <th>3</th>\n",
              "      <td>17623</td>\n",
              "      <td>2</td>\n",
              "      <td>169</td>\n",
              "      <td>82.0</td>\n",
              "      <td>150</td>\n",
              "      <td>100</td>\n",
              "      <td>1</td>\n",
              "      <td>1</td>\n",
              "      <td>0</td>\n",
              "      <td>0</td>\n",
              "      <td>1</td>\n",
              "    </tr>\n",
              "    <tr>\n",
              "      <th>4</th>\n",
              "      <td>17474</td>\n",
              "      <td>1</td>\n",
              "      <td>156</td>\n",
              "      <td>56.0</td>\n",
              "      <td>100</td>\n",
              "      <td>60</td>\n",
              "      <td>1</td>\n",
              "      <td>1</td>\n",
              "      <td>0</td>\n",
              "      <td>0</td>\n",
              "      <td>0</td>\n",
              "    </tr>\n",
              "  </tbody>\n",
              "</table>\n",
              "</div>\n",
              "      <button class=\"colab-df-convert\" onclick=\"convertToInteractive('df-fa3f5c64-8f97-426b-8db1-387265ed56b0')\"\n",
              "              title=\"Convert this dataframe to an interactive table.\"\n",
              "              style=\"display:none;\">\n",
              "        \n",
              "  <svg xmlns=\"http://www.w3.org/2000/svg\" height=\"24px\"viewBox=\"0 0 24 24\"\n",
              "       width=\"24px\">\n",
              "    <path d=\"M0 0h24v24H0V0z\" fill=\"none\"/>\n",
              "    <path d=\"M18.56 5.44l.94 2.06.94-2.06 2.06-.94-2.06-.94-.94-2.06-.94 2.06-2.06.94zm-11 1L8.5 8.5l.94-2.06 2.06-.94-2.06-.94L8.5 2.5l-.94 2.06-2.06.94zm10 10l.94 2.06.94-2.06 2.06-.94-2.06-.94-.94-2.06-.94 2.06-2.06.94z\"/><path d=\"M17.41 7.96l-1.37-1.37c-.4-.4-.92-.59-1.43-.59-.52 0-1.04.2-1.43.59L10.3 9.45l-7.72 7.72c-.78.78-.78 2.05 0 2.83L4 21.41c.39.39.9.59 1.41.59.51 0 1.02-.2 1.41-.59l7.78-7.78 2.81-2.81c.8-.78.8-2.07 0-2.86zM5.41 20L4 18.59l7.72-7.72 1.47 1.35L5.41 20z\"/>\n",
              "  </svg>\n",
              "      </button>\n",
              "      \n",
              "  <style>\n",
              "    .colab-df-container {\n",
              "      display:flex;\n",
              "      flex-wrap:wrap;\n",
              "      gap: 12px;\n",
              "    }\n",
              "\n",
              "    .colab-df-convert {\n",
              "      background-color: #E8F0FE;\n",
              "      border: none;\n",
              "      border-radius: 50%;\n",
              "      cursor: pointer;\n",
              "      display: none;\n",
              "      fill: #1967D2;\n",
              "      height: 32px;\n",
              "      padding: 0 0 0 0;\n",
              "      width: 32px;\n",
              "    }\n",
              "\n",
              "    .colab-df-convert:hover {\n",
              "      background-color: #E2EBFA;\n",
              "      box-shadow: 0px 1px 2px rgba(60, 64, 67, 0.3), 0px 1px 3px 1px rgba(60, 64, 67, 0.15);\n",
              "      fill: #174EA6;\n",
              "    }\n",
              "\n",
              "    [theme=dark] .colab-df-convert {\n",
              "      background-color: #3B4455;\n",
              "      fill: #D2E3FC;\n",
              "    }\n",
              "\n",
              "    [theme=dark] .colab-df-convert:hover {\n",
              "      background-color: #434B5C;\n",
              "      box-shadow: 0px 1px 3px 1px rgba(0, 0, 0, 0.15);\n",
              "      filter: drop-shadow(0px 1px 2px rgba(0, 0, 0, 0.3));\n",
              "      fill: #FFFFFF;\n",
              "    }\n",
              "  </style>\n",
              "\n",
              "      <script>\n",
              "        const buttonEl =\n",
              "          document.querySelector('#df-fa3f5c64-8f97-426b-8db1-387265ed56b0 button.colab-df-convert');\n",
              "        buttonEl.style.display =\n",
              "          google.colab.kernel.accessAllowed ? 'block' : 'none';\n",
              "\n",
              "        async function convertToInteractive(key) {\n",
              "          const element = document.querySelector('#df-fa3f5c64-8f97-426b-8db1-387265ed56b0');\n",
              "          const dataTable =\n",
              "            await google.colab.kernel.invokeFunction('convertToInteractive',\n",
              "                                                     [key], {});\n",
              "          if (!dataTable) return;\n",
              "\n",
              "          const docLinkHtml = 'Like what you see? Visit the ' +\n",
              "            '<a target=\"_blank\" href=https://colab.research.google.com/notebooks/data_table.ipynb>data table notebook</a>'\n",
              "            + ' to learn more about interactive tables.';\n",
              "          element.innerHTML = '';\n",
              "          dataTable['output_type'] = 'display_data';\n",
              "          await google.colab.output.renderOutput(dataTable, element);\n",
              "          const docLink = document.createElement('div');\n",
              "          docLink.innerHTML = docLinkHtml;\n",
              "          element.appendChild(docLink);\n",
              "        }\n",
              "      </script>\n",
              "    </div>\n",
              "  </div>\n",
              "  "
            ],
            "text/plain": [
              "     age  gender  height  weight  ap_hi  ...  cholesterol  gluc  smoke  alco  active\n",
              "0  18393       2     168    62.0    110  ...            1     1      0     0       1\n",
              "1  20228       1     156    85.0    140  ...            3     1      0     0       1\n",
              "2  18857       1     165    64.0    130  ...            3     1      0     0       0\n",
              "3  17623       2     169    82.0    150  ...            1     1      0     0       1\n",
              "4  17474       1     156    56.0    100  ...            1     1      0     0       0\n",
              "\n",
              "[5 rows x 11 columns]"
            ]
          },
          "metadata": {},
          "execution_count": 5
        }
      ]
    },
    {
      "cell_type": "markdown",
      "source": [
        "#Country\n",
        "This class implements the country concept in the ICA algorithm.\n",
        " \n",
        "The Country object contains features and classification of a country. cost method used classifier to calculate cost. you should choose your classifier before running the cell.\n",
        "and with getFeature and setFeature you can change and access the features.\n"
      ],
      "metadata": {
        "id": "NErV1DB0erxb"
      }
    },
    {
      "cell_type": "code",
      "source": [
        "class Country:\n",
        "    def __init__(self, features):\n",
        "        self.features = features\n",
        "        self.classifier = KNeighborsClassifier(n_neighbors = 5) # KNN = KNeighborsClassifier(n_neighbors = 5)\n",
        "                                                                # RF = RandomForestClassifier(n_estimators = 5)\n",
        "                                                                # SVM = SVC(gamma = 'scale')\n",
        "        self._cost = None\n",
        "\n",
        "    def cost(self):\n",
        "        if self._cost:\n",
        "            return self._cost\n",
        "\n",
        "        feature_indexes = np.array([X.columns[i] for i in np.where(self.features == 1)[0]])\n",
        "        X_train = X_TRAIN[feature_indexes]\n",
        "        X_test  = X_TEST[feature_indexes]\n",
        "\n",
        "\n",
        "        self.classifier.fit(X_train, Y_TRAIN)\n",
        "\n",
        "        y_pred = self.classifier.predict(X_test)\n",
        "\n",
        "        self._cost = 1 - f1_score(Y_TEST, y_pred)\n",
        "        return self._cost\n",
        "\n",
        "    def getFeatures(self):\n",
        "        return self.features\n",
        "\n",
        "    def setFeatures(self, features):\n",
        "        self._cost = None\n",
        "        self.features = features"
      ],
      "metadata": {
        "id": "CFRggpEJeM1i"
      },
      "execution_count": 4,
      "outputs": []
    },
    {
      "cell_type": "markdown",
      "source": [
        "#Empire\n",
        "This class implements the Empire concept in the ICA algorithm.\n",
        " \n",
        "Each empire contains an imperialist and some colonies.\n",
        "the total cost of an empire calculated with the \"ecost\" method.\n",
        " \n",
        "This class has other methods to add and delete a colony or get access to them by getColony, getcolonies and getImperialist methods.\n"
      ],
      "metadata": {
        "id": "ed3rOkvjh745"
      }
    },
    {
      "cell_type": "code",
      "source": [
        "class Empire:\n",
        "    def __init__(self, imperialist):\n",
        "        self.imperialist: Country = imperialist\n",
        "        self.colonies: List[Country] = []\n",
        "\n",
        "    @property\n",
        "    def ecost(self):\n",
        "        colony_count = 1\n",
        "        if len(self.colonies) > 0: colony_count = len(self.colonies)\n",
        "        return (self.imperialist.cost() + (np.sum([colony.cost() for colony in self.colonies]) * EMPIRE_COST_RATE)) / colony_count\n",
        "\n",
        "    def deleteColony(self, index):\n",
        "        del self.colonies[index]\n",
        "\n",
        "    def addColony(self, colony):\n",
        "        if colony.cost() < self.imperialist.cost():\n",
        "            self.colonies.append(self.imperialist)\n",
        "            self.imperialist = colony\n",
        "        else:\n",
        "            self.colonies.append(colony)\n",
        "\n",
        "    def getColoniesCount(self):\n",
        "        return len(self.colonies)\n",
        "\n",
        "\n",
        "    def getColony(self, index):\n",
        "        return self.colonies[index]\n",
        "\n",
        "    def getImperialist(self):\n",
        "        return self.imperialist"
      ],
      "metadata": {
        "id": "C-5qGZJJeQ4C"
      },
      "execution_count": 5,
      "outputs": []
    },
    {
      "cell_type": "code",
      "source": [
        "def randomSelection(P):\n",
        "    r = rn.random()\n",
        "\n",
        "    C = np.cumsum(P)\n",
        "\n",
        "    index = [i for i, x in enumerate(C) if r <= x]\n",
        "\n",
        "    return index[0]"
      ],
      "metadata": {
        "id": "fQakfUC5eUaI"
      },
      "execution_count": 6,
      "outputs": []
    },
    {
      "cell_type": "markdown",
      "source": [
        "#ICA\n",
        "Here is the main part of the ICA algorithm.\n",
        "At first we construct initial countries with the \"createCountries\" method.\n",
        "and with \"createEmpires' ' we create Empires by choosing imperialists and dividing colonies between them.\n",
        "\n",
        "In \"intraCompetition\" for each colony of an empire the \"assimilation\" and \"revolution\" are executed and the new cost of colony calculated, after that if the cost was better than its imperialist's cost their places will change.\n",
        "\n",
        "There is other competition between empires that each time the weakest colony of an weakest empire deleted and given to another one with \"interCompetition\"method.\n",
        "\n",
        "These competitions will happen till there's just one empire left."
      ],
      "metadata": {
        "id": "LQeOxjbkkg93"
      }
    },
    {
      "cell_type": "code",
      "source": [
        "class Ica:\n",
        "    def __init__(self, country_count):\n",
        "        self.countries: List[Country] = []\n",
        "        self.empires: List[Empire] = []\n",
        "        self.colonies: List[Country] = []\n",
        "        self.createCountries(country_count)\n",
        "        self.createEmpires()\n",
        "\n",
        "    def createCountries(self, count):\n",
        "        for _ in range(count):\n",
        "            features = np.random.choice(2, len(X.columns))\n",
        "            self.countries.append(Country(features))\n",
        "\n",
        "    def createEmpires(self):\n",
        "        costs = []\n",
        "        for country in self.countries:\n",
        "            costs.append(country.cost())\n",
        "        costs = np.array(costs)\n",
        "\n",
        "        sorted_indicates = np.argsort(costs)\n",
        "\n",
        "        new_countries = []\n",
        "        for i in sorted_indicates:\n",
        "            new_countries.append(self.countries[i])\n",
        "        new_countries = np.array(new_countries)\n",
        "        self.countries = new_countries\n",
        "\n",
        "        imperialists = self.countries[:IMPERIALIST_COUNT]\n",
        "        self.colonies = self.countries[IMPERIALIST_COUNT:]\n",
        "\n",
        "        for i in imperialists:\n",
        "            self.empires.append(Empire(i))\n",
        "\n",
        "        empires_costs = np.array([np.sum(empire.ecost) for empire in self.empires])\n",
        "\n",
        "        P = np.absolute(np.divide(empires_costs, np.sum(empires_costs)))\n",
        "\n",
        "        for colony in self.colonies:\n",
        "            k = randomSelection(P)\n",
        "            self.empires[k].addColony(colony)\n",
        "\n",
        "    def assimilation(self, colony, colony_vector, imperialist_vector):\n",
        "\n",
        "        S = np.random.choice([0, 1], size=len(colony_vector), p=[.4, .6])  \n",
        "\n",
        "        k =  np.where(S == 1) #mappaing key.\n",
        "        v = np.array(imperialist_vector)[k]\n",
        "\n",
        "        for key,val in zip(k[0],v):\n",
        "            colony_vector[key] = val\n",
        "\n",
        "        colony.setFeatures(colony_vector)\n",
        "\n",
        "    def revolution(self, colony):\n",
        "        colony_vector = colony.getFeatures()\n",
        "\n",
        "        for i in range(len(colony_vector)): \n",
        "\n",
        "            if rn.random() < MUTATION_RATE:\n",
        "                # flip the bit\n",
        "                colony_vector[i] = 1 - colony_vector[i]\n",
        "\n",
        "        colony.setFeatures(colony_vector)\n",
        "\n",
        "    def intraCompetition(self): # within \n",
        "        global intraCompetition_part1_time, intraCompetition_part2_time\n",
        "\n",
        "        for empire in self.empires:\n",
        "            for colony in empire.colonies:\n",
        "\n",
        "                imperialist = empire.getImperialist()\n",
        "\n",
        "                self.assimilation(colony, colony.getFeatures(), imperialist.getFeatures())\n",
        "\n",
        "                if rn.random() < P_REVOLUTION:\n",
        "                    self.revoulotion(colony)\n",
        "                \n",
        "                if colony.cost() < imperialist.cost():\n",
        "                    empire.imperialist = colony\n",
        "                    empire.colonies[empire.colonies.index(colony)] = imperialist        \n",
        "        \n",
        "\n",
        "    def interCompetition(self): # between empires\n",
        "        if len(self.empires) == 1:\n",
        "            return self.empires[0]\n",
        "\n",
        "        empiresTotalCost = np.array([empire.ecost for empire in self.empires])\n",
        "\n",
        "        weakest_empire_index = np.argmax(empiresTotalCost)\n",
        "        weakest_empire = self.empires[weakest_empire_index]\n",
        "\n",
        "        P = np.divide(empiresTotalCost, empiresTotalCost.sum())\n",
        "        P = np.flip(P, 0)\n",
        "\n",
        "        if weakest_empire.getColoniesCount() > 0:\n",
        "\n",
        "            weakest_empire_colonies_cost = np.array([colony.cost() for colony in weakest_empire.colonies])\n",
        "\n",
        "            weakest_colony_index = np.argmax(weakest_empire_colonies_cost)\n",
        "            weakest_colony = weakest_empire.getColony(weakest_colony_index)\n",
        "\n",
        "            winning_empire_index = randomSelection(P)\n",
        "            winning_empire = self.empires[winning_empire_index]\n",
        "\n",
        "            winning_empire.addColony(weakest_colony)\n",
        "\n",
        "            weakest_empire.deleteColony(weakest_colony_index)\n",
        "\n",
        "            print(\"an Empire lost a colony\", end='\\n')\n",
        "\n",
        "\n",
        "        elif weakest_empire.getColoniesCount() == 0:\n",
        "\n",
        "            winning_empire_index = randomSelection(P)\n",
        "            winning_empire = self.empires[winning_empire_index]\n",
        "\n",
        "            winning_empire.addColony(weakest_empire.getImperialist())\n",
        "\n",
        "            del self.empires[self.empires.index(weakest_empire)]\n",
        "\n",
        "            print(\"***************************\")\n",
        "            print(f\"An empire is downfall... features: {weakest_empire.imperialist.features}, cost: {weakest_empire.imperialist.cost()}\")\n",
        "            print(\"***************************\", end='\\n\\n')\n",
        "\n",
        "\n",
        "        time.sleep(.100)\n",
        "        self.intraCompetition()\n",
        "        self.interCompetition()"
      ],
      "metadata": {
        "id": "GmK5f91Ne8_M"
      },
      "execution_count": 7,
      "outputs": []
    },
    {
      "cell_type": "markdown",
      "source": [
        "#Parameters\n"
      ],
      "metadata": {
        "id": "ccVMOXl7pLke"
      }
    },
    {
      "cell_type": "code",
      "source": [
        "COUNTRY_COUNT = 20 # number of countries => population size\n",
        "IMPERIALIST_COUNT = 5 # number of imperialists\n",
        "\n",
        "P_REVOLUTION =0.1 # revolution probability\n",
        "MUTATION_RATE = 1.0 / len(X.columns)\n",
        "\n",
        "EMPIRE_COST_RATE = 0.01 # colonies min cost coefficient -> zeta\n",
        "\n",
        "X_TRAIN, X_TEST, Y_TRAIN, Y_TEST = train_test_split(X, y)\n"
      ],
      "metadata": {
        "id": "IGjVhrb_pI8l"
      },
      "execution_count": 8,
      "outputs": []
    },
    {
      "cell_type": "code",
      "source": [
        "if __name__ == \"__main__\":\n",
        "    start = time.time()\n",
        "    ica = Ica(COUNTRY_COUNT)\n",
        "\n",
        "    ica.intraCompetition()\n",
        "    ica.interCompetition()\n",
        "\n",
        "    empire = ica.empires[0]\n",
        "    print(f\"Empire (features: {empire.imperialist.features}, cost: {empire.imperialist.cost()}) is winner....****\")\n",
        "    print(f\"total_time = {time.time() - start}\")"
      ],
      "metadata": {
        "id": "TrLSk9OBedI5"
      },
      "execution_count": null,
      "outputs": []
    },
    {
      "cell_type": "markdown",
      "source": [
        "cost with all features"
      ],
      "metadata": {
        "id": "1Hrc6hcypf4u"
      }
    },
    {
      "cell_type": "code",
      "source": [
        "features = np.array([1] * len(X.columns))\n",
        "c = Country(features)\n",
        "print(c.cost())"
      ],
      "metadata": {
        "id": "jnDVGPZlR6XH"
      },
      "execution_count": null,
      "outputs": []
    }
  ]
}